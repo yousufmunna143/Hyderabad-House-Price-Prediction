{
 "cells": [
  {
   "cell_type": "code",
   "execution_count": 38,
   "id": "9c1c31e4-8207-4172-a7db-de938c919f69",
   "metadata": {},
   "outputs": [],
   "source": [
    "import pandas as pd\n",
    "import numpy as np"
   ]
  },
  {
   "cell_type": "code",
   "execution_count": 39,
   "id": "99d46194-2252-4fcc-a7c1-b89b8504cf2e",
   "metadata": {},
   "outputs": [],
   "source": [
    "data = pd.read_csv('hyderabad.csv')"
   ]
  },
  {
   "cell_type": "code",
   "execution_count": 40,
   "id": "8a04d457-d4b2-4cca-ad7f-5ee6821170eb",
   "metadata": {},
   "outputs": [
    {
     "data": {
      "text/html": [
       "<div>\n",
       "<style scoped>\n",
       "    .dataframe tbody tr th:only-of-type {\n",
       "        vertical-align: middle;\n",
       "    }\n",
       "\n",
       "    .dataframe tbody tr th {\n",
       "        vertical-align: top;\n",
       "    }\n",
       "\n",
       "    .dataframe thead th {\n",
       "        text-align: right;\n",
       "    }\n",
       "</style>\n",
       "<table border=\"1\" class=\"dataframe\">\n",
       "  <thead>\n",
       "    <tr style=\"text-align: right;\">\n",
       "      <th></th>\n",
       "      <th>Price</th>\n",
       "      <th>Area</th>\n",
       "      <th>Location</th>\n",
       "      <th>No. of Bedrooms</th>\n",
       "      <th>Resale</th>\n",
       "      <th>MaintenanceStaff</th>\n",
       "      <th>Gymnasium</th>\n",
       "      <th>SwimmingPool</th>\n",
       "      <th>LandscapedGardens</th>\n",
       "      <th>JoggingTrack</th>\n",
       "      <th>...</th>\n",
       "      <th>LiftAvailable</th>\n",
       "      <th>BED</th>\n",
       "      <th>VaastuCompliant</th>\n",
       "      <th>Microwave</th>\n",
       "      <th>GolfCourse</th>\n",
       "      <th>TV</th>\n",
       "      <th>DiningTable</th>\n",
       "      <th>Sofa</th>\n",
       "      <th>Wardrobe</th>\n",
       "      <th>Refrigerator</th>\n",
       "    </tr>\n",
       "  </thead>\n",
       "  <tbody>\n",
       "    <tr>\n",
       "      <th>0</th>\n",
       "      <td>6968000</td>\n",
       "      <td>1340</td>\n",
       "      <td>Nizampet</td>\n",
       "      <td>2</td>\n",
       "      <td>0</td>\n",
       "      <td>0</td>\n",
       "      <td>1</td>\n",
       "      <td>1</td>\n",
       "      <td>1</td>\n",
       "      <td>1</td>\n",
       "      <td>...</td>\n",
       "      <td>1</td>\n",
       "      <td>0</td>\n",
       "      <td>1</td>\n",
       "      <td>0</td>\n",
       "      <td>0</td>\n",
       "      <td>0</td>\n",
       "      <td>0</td>\n",
       "      <td>0</td>\n",
       "      <td>0</td>\n",
       "      <td>0</td>\n",
       "    </tr>\n",
       "    <tr>\n",
       "      <th>1</th>\n",
       "      <td>29000000</td>\n",
       "      <td>3498</td>\n",
       "      <td>Hitech City</td>\n",
       "      <td>4</td>\n",
       "      <td>0</td>\n",
       "      <td>0</td>\n",
       "      <td>1</td>\n",
       "      <td>1</td>\n",
       "      <td>1</td>\n",
       "      <td>1</td>\n",
       "      <td>...</td>\n",
       "      <td>1</td>\n",
       "      <td>0</td>\n",
       "      <td>1</td>\n",
       "      <td>0</td>\n",
       "      <td>0</td>\n",
       "      <td>0</td>\n",
       "      <td>0</td>\n",
       "      <td>0</td>\n",
       "      <td>0</td>\n",
       "      <td>0</td>\n",
       "    </tr>\n",
       "    <tr>\n",
       "      <th>2</th>\n",
       "      <td>6590000</td>\n",
       "      <td>1318</td>\n",
       "      <td>Manikonda</td>\n",
       "      <td>2</td>\n",
       "      <td>0</td>\n",
       "      <td>0</td>\n",
       "      <td>1</td>\n",
       "      <td>0</td>\n",
       "      <td>0</td>\n",
       "      <td>0</td>\n",
       "      <td>...</td>\n",
       "      <td>0</td>\n",
       "      <td>0</td>\n",
       "      <td>0</td>\n",
       "      <td>0</td>\n",
       "      <td>0</td>\n",
       "      <td>0</td>\n",
       "      <td>0</td>\n",
       "      <td>0</td>\n",
       "      <td>0</td>\n",
       "      <td>0</td>\n",
       "    </tr>\n",
       "    <tr>\n",
       "      <th>3</th>\n",
       "      <td>5739000</td>\n",
       "      <td>1295</td>\n",
       "      <td>Alwal</td>\n",
       "      <td>3</td>\n",
       "      <td>1</td>\n",
       "      <td>0</td>\n",
       "      <td>0</td>\n",
       "      <td>0</td>\n",
       "      <td>0</td>\n",
       "      <td>0</td>\n",
       "      <td>...</td>\n",
       "      <td>1</td>\n",
       "      <td>0</td>\n",
       "      <td>0</td>\n",
       "      <td>0</td>\n",
       "      <td>0</td>\n",
       "      <td>0</td>\n",
       "      <td>0</td>\n",
       "      <td>0</td>\n",
       "      <td>0</td>\n",
       "      <td>0</td>\n",
       "    </tr>\n",
       "    <tr>\n",
       "      <th>4</th>\n",
       "      <td>5679000</td>\n",
       "      <td>1145</td>\n",
       "      <td>Kukatpally</td>\n",
       "      <td>2</td>\n",
       "      <td>0</td>\n",
       "      <td>0</td>\n",
       "      <td>0</td>\n",
       "      <td>0</td>\n",
       "      <td>1</td>\n",
       "      <td>0</td>\n",
       "      <td>...</td>\n",
       "      <td>1</td>\n",
       "      <td>0</td>\n",
       "      <td>0</td>\n",
       "      <td>0</td>\n",
       "      <td>0</td>\n",
       "      <td>0</td>\n",
       "      <td>0</td>\n",
       "      <td>0</td>\n",
       "      <td>0</td>\n",
       "      <td>0</td>\n",
       "    </tr>\n",
       "  </tbody>\n",
       "</table>\n",
       "<p>5 rows × 40 columns</p>\n",
       "</div>"
      ],
      "text/plain": [
       "      Price  Area     Location  No. of Bedrooms  Resale  MaintenanceStaff  \\\n",
       "0   6968000  1340     Nizampet                2       0                 0   \n",
       "1  29000000  3498  Hitech City                4       0                 0   \n",
       "2   6590000  1318    Manikonda                2       0                 0   \n",
       "3   5739000  1295        Alwal                3       1                 0   \n",
       "4   5679000  1145   Kukatpally                2       0                 0   \n",
       "\n",
       "   Gymnasium  SwimmingPool  LandscapedGardens  JoggingTrack  ...  \\\n",
       "0          1             1                  1             1  ...   \n",
       "1          1             1                  1             1  ...   \n",
       "2          1             0                  0             0  ...   \n",
       "3          0             0                  0             0  ...   \n",
       "4          0             0                  1             0  ...   \n",
       "\n",
       "   LiftAvailable  BED  VaastuCompliant  Microwave  GolfCourse  TV  \\\n",
       "0              1    0                1          0           0   0   \n",
       "1              1    0                1          0           0   0   \n",
       "2              0    0                0          0           0   0   \n",
       "3              1    0                0          0           0   0   \n",
       "4              1    0                0          0           0   0   \n",
       "\n",
       "   DiningTable  Sofa  Wardrobe  Refrigerator  \n",
       "0            0     0         0             0  \n",
       "1            0     0         0             0  \n",
       "2            0     0         0             0  \n",
       "3            0     0         0             0  \n",
       "4            0     0         0             0  \n",
       "\n",
       "[5 rows x 40 columns]"
      ]
     },
     "execution_count": 40,
     "metadata": {},
     "output_type": "execute_result"
    }
   ],
   "source": [
    "data.head()"
   ]
  },
  {
   "cell_type": "code",
   "execution_count": 41,
   "id": "59a3c4fd-6605-4687-97a7-209e64b5b611",
   "metadata": {},
   "outputs": [
    {
     "data": {
      "text/plain": [
       "(2518, 40)"
      ]
     },
     "execution_count": 41,
     "metadata": {},
     "output_type": "execute_result"
    }
   ],
   "source": [
    "data.shape\n"
   ]
  },
  {
   "cell_type": "code",
   "execution_count": 42,
   "id": "f299525d-a2ef-43fc-9d99-6c564e6635b6",
   "metadata": {},
   "outputs": [
    {
     "name": "stdout",
     "output_type": "stream",
     "text": [
      "<class 'pandas.core.frame.DataFrame'>\n",
      "RangeIndex: 2518 entries, 0 to 2517\n",
      "Data columns (total 40 columns):\n",
      " #   Column               Non-Null Count  Dtype \n",
      "---  ------               --------------  ----- \n",
      " 0   Price                2518 non-null   int64 \n",
      " 1   Area                 2518 non-null   int64 \n",
      " 2   Location             2518 non-null   object\n",
      " 3   No. of Bedrooms      2518 non-null   int64 \n",
      " 4   Resale               2518 non-null   int64 \n",
      " 5   MaintenanceStaff     2518 non-null   int64 \n",
      " 6   Gymnasium            2518 non-null   int64 \n",
      " 7   SwimmingPool         2518 non-null   int64 \n",
      " 8   LandscapedGardens    2518 non-null   int64 \n",
      " 9   JoggingTrack         2518 non-null   int64 \n",
      " 10  RainWaterHarvesting  2518 non-null   int64 \n",
      " 11  IndoorGames          2518 non-null   int64 \n",
      " 12  ShoppingMall         2518 non-null   int64 \n",
      " 13  Intercom             2518 non-null   int64 \n",
      " 14  SportsFacility       2518 non-null   int64 \n",
      " 15  ATM                  2518 non-null   int64 \n",
      " 16  ClubHouse            2518 non-null   int64 \n",
      " 17  School               2518 non-null   int64 \n",
      " 18  24X7Security         2518 non-null   int64 \n",
      " 19  PowerBackup          2518 non-null   int64 \n",
      " 20  CarParking           2518 non-null   int64 \n",
      " 21  StaffQuarter         2518 non-null   int64 \n",
      " 22  Cafeteria            2518 non-null   int64 \n",
      " 23  MultipurposeRoom     2518 non-null   int64 \n",
      " 24  Hospital             2518 non-null   int64 \n",
      " 25  WashingMachine       2518 non-null   int64 \n",
      " 26  Gasconnection        2518 non-null   int64 \n",
      " 27  AC                   2518 non-null   int64 \n",
      " 28  Wifi                 2518 non-null   int64 \n",
      " 29  Children'splayarea   2518 non-null   int64 \n",
      " 30  LiftAvailable        2518 non-null   int64 \n",
      " 31  BED                  2518 non-null   int64 \n",
      " 32  VaastuCompliant      2518 non-null   int64 \n",
      " 33  Microwave            2518 non-null   int64 \n",
      " 34  GolfCourse           2518 non-null   int64 \n",
      " 35  TV                   2518 non-null   int64 \n",
      " 36  DiningTable          2518 non-null   int64 \n",
      " 37  Sofa                 2518 non-null   int64 \n",
      " 38  Wardrobe             2518 non-null   int64 \n",
      " 39  Refrigerator         2518 non-null   int64 \n",
      "dtypes: int64(39), object(1)\n",
      "memory usage: 787.0+ KB\n"
     ]
    }
   ],
   "source": [
    "data.info()"
   ]
  },
  {
   "cell_type": "code",
   "execution_count": 43,
   "id": "44954713-b220-4ef0-bd90-63f591a27f10",
   "metadata": {},
   "outputs": [
    {
     "name": "stdout",
     "output_type": "stream",
     "text": [
      "Price\n",
      "3500000    48\n",
      "3900000    46\n",
      "6000000    45\n",
      "4500000    43\n",
      "8000000    39\n",
      "           ..\n",
      "6656999     1\n",
      "6312000     1\n",
      "5166000     1\n",
      "5367000     1\n",
      "6250000     1\n",
      "Name: count, Length: 690, dtype: int64\n",
      "********************\n",
      "Area\n",
      "1100    76\n",
      "1150    76\n",
      "1200    69\n",
      "1050    67\n",
      "1515    50\n",
      "        ..\n",
      "1334     1\n",
      "1355     1\n",
      "1738     1\n",
      "3049     1\n",
      "1805     1\n",
      "Name: count, Length: 579, dtype: int64\n",
      "********************\n",
      "Location\n",
      "Kukatpally                       166\n",
      "Kondapur                         149\n",
      "Manikonda                        115\n",
      "Nizampet                         106\n",
      "Gachibowli                        83\n",
      "                                ... \n",
      "Basheer Bagh                       1\n",
      "Miyapur HMT Swarnapuri Colony      1\n",
      "Adda Gutta                         1\n",
      "Mayuri Nagar                       1\n",
      "Paradise Circle                    1\n",
      "Name: count, Length: 243, dtype: int64\n",
      "********************\n",
      "No. of Bedrooms\n",
      "3    1207\n",
      "2    1090\n",
      "4     160\n",
      "1      37\n",
      "5      20\n",
      "8       2\n",
      "6       2\n",
      "Name: count, dtype: int64\n",
      "********************\n",
      "Resale\n",
      "0    1945\n",
      "1     573\n",
      "Name: count, dtype: int64\n",
      "********************\n",
      "MaintenanceStaff\n",
      "0    2151\n",
      "1     283\n",
      "9      84\n",
      "Name: count, dtype: int64\n",
      "********************\n",
      "Gymnasium\n",
      "0    1327\n",
      "1    1107\n",
      "9      84\n",
      "Name: count, dtype: int64\n",
      "********************\n",
      "SwimmingPool\n",
      "0    1403\n",
      "1    1031\n",
      "9      84\n",
      "Name: count, dtype: int64\n",
      "********************\n",
      "LandscapedGardens\n",
      "0    1631\n",
      "1     803\n",
      "9      84\n",
      "Name: count, dtype: int64\n",
      "********************\n",
      "JoggingTrack\n",
      "0    1780\n",
      "1     654\n",
      "9      84\n",
      "Name: count, dtype: int64\n",
      "********************\n",
      "RainWaterHarvesting\n",
      "0    1663\n",
      "1     771\n",
      "9      84\n",
      "Name: count, dtype: int64\n",
      "********************\n",
      "IndoorGames\n",
      "0    1728\n",
      "1     706\n",
      "9      84\n",
      "Name: count, dtype: int64\n",
      "********************\n",
      "ShoppingMall\n",
      "0    2268\n",
      "1     166\n",
      "9      84\n",
      "Name: count, dtype: int64\n",
      "********************\n",
      "Intercom\n",
      "0    1480\n",
      "1     954\n",
      "9      84\n",
      "Name: count, dtype: int64\n",
      "********************\n",
      "SportsFacility\n",
      "0    1796\n",
      "1     638\n",
      "9      84\n",
      "Name: count, dtype: int64\n",
      "********************\n",
      "ATM\n",
      "0    2128\n",
      "1     306\n",
      "9      84\n",
      "Name: count, dtype: int64\n",
      "********************\n",
      "ClubHouse\n",
      "0    1398\n",
      "1    1036\n",
      "9      84\n",
      "Name: count, dtype: int64\n",
      "********************\n",
      "School\n",
      "0    2332\n",
      "1     102\n",
      "9      84\n",
      "Name: count, dtype: int64\n",
      "********************\n",
      "24X7Security\n",
      "0    1411\n",
      "1    1023\n",
      "9      84\n",
      "Name: count, dtype: int64\n",
      "********************\n",
      "PowerBackup\n",
      "1    1600\n",
      "0     834\n",
      "9      84\n",
      "Name: count, dtype: int64\n",
      "********************\n",
      "CarParking\n",
      "0    1336\n",
      "1    1098\n",
      "9      84\n",
      "Name: count, dtype: int64\n",
      "********************\n",
      "StaffQuarter\n",
      "0    2194\n",
      "1     240\n",
      "9      84\n",
      "Name: count, dtype: int64\n",
      "********************\n",
      "Cafeteria\n",
      "0    2149\n",
      "1     285\n",
      "9      84\n",
      "Name: count, dtype: int64\n",
      "********************\n",
      "MultipurposeRoom\n",
      "0    1850\n",
      "1     584\n",
      "9      84\n",
      "Name: count, dtype: int64\n",
      "********************\n",
      "Hospital\n",
      "0    2334\n",
      "1     100\n",
      "9      84\n",
      "Name: count, dtype: int64\n",
      "********************\n",
      "WashingMachine\n",
      "0    2384\n",
      "9      84\n",
      "1      50\n",
      "Name: count, dtype: int64\n",
      "********************\n",
      "Gasconnection\n",
      "0    2216\n",
      "1     218\n",
      "9      84\n",
      "Name: count, dtype: int64\n",
      "********************\n",
      "AC\n",
      "0    2337\n",
      "1      97\n",
      "9      84\n",
      "Name: count, dtype: int64\n",
      "********************\n",
      "Wifi\n",
      "0    2369\n",
      "9      84\n",
      "1      65\n",
      "Name: count, dtype: int64\n",
      "********************\n",
      "Children'splayarea\n",
      "0    1291\n",
      "1    1143\n",
      "9      84\n",
      "Name: count, dtype: int64\n",
      "********************\n",
      "LiftAvailable\n",
      "1    1701\n",
      "0     733\n",
      "9      84\n",
      "Name: count, dtype: int64\n",
      "********************\n",
      "BED\n",
      "0    2283\n",
      "1     151\n",
      "9      84\n",
      "Name: count, dtype: int64\n",
      "********************\n",
      "VaastuCompliant\n",
      "0    1661\n",
      "1     773\n",
      "9      84\n",
      "Name: count, dtype: int64\n",
      "********************\n",
      "Microwave\n",
      "0    2327\n",
      "1     107\n",
      "9      84\n",
      "Name: count, dtype: int64\n",
      "********************\n",
      "GolfCourse\n",
      "0    2359\n",
      "9      84\n",
      "1      75\n",
      "Name: count, dtype: int64\n",
      "********************\n",
      "TV\n",
      "0    2381\n",
      "9      84\n",
      "1      53\n",
      "Name: count, dtype: int64\n",
      "********************\n",
      "DiningTable\n",
      "0    2348\n",
      "1      86\n",
      "9      84\n",
      "Name: count, dtype: int64\n",
      "********************\n",
      "Sofa\n",
      "0    2328\n",
      "1     106\n",
      "9      84\n",
      "Name: count, dtype: int64\n",
      "********************\n",
      "Wardrobe\n",
      "0    2331\n",
      "1     103\n",
      "9      84\n",
      "Name: count, dtype: int64\n",
      "********************\n",
      "Refrigerator\n",
      "0    2372\n",
      "9      84\n",
      "1      62\n",
      "Name: count, dtype: int64\n",
      "********************\n"
     ]
    }
   ],
   "source": [
    "for column in data.columns:\n",
    "    print(data[column].value_counts())\n",
    "    print(\"*\" * 20)"
   ]
  },
  {
   "cell_type": "code",
   "execution_count": 44,
   "id": "dc0421fc-7259-40cc-a2a6-05eac1b9af2e",
   "metadata": {},
   "outputs": [
    {
     "data": {
      "text/plain": [
       "Price                  0\n",
       "Area                   0\n",
       "Location               0\n",
       "No. of Bedrooms        0\n",
       "Resale                 0\n",
       "MaintenanceStaff       0\n",
       "Gymnasium              0\n",
       "SwimmingPool           0\n",
       "LandscapedGardens      0\n",
       "JoggingTrack           0\n",
       "RainWaterHarvesting    0\n",
       "IndoorGames            0\n",
       "ShoppingMall           0\n",
       "Intercom               0\n",
       "SportsFacility         0\n",
       "ATM                    0\n",
       "ClubHouse              0\n",
       "School                 0\n",
       "24X7Security           0\n",
       "PowerBackup            0\n",
       "CarParking             0\n",
       "StaffQuarter           0\n",
       "Cafeteria              0\n",
       "MultipurposeRoom       0\n",
       "Hospital               0\n",
       "WashingMachine         0\n",
       "Gasconnection          0\n",
       "AC                     0\n",
       "Wifi                   0\n",
       "Children'splayarea     0\n",
       "LiftAvailable          0\n",
       "BED                    0\n",
       "VaastuCompliant        0\n",
       "Microwave              0\n",
       "GolfCourse             0\n",
       "TV                     0\n",
       "DiningTable            0\n",
       "Sofa                   0\n",
       "Wardrobe               0\n",
       "Refrigerator           0\n",
       "dtype: int64"
      ]
     },
     "execution_count": 44,
     "metadata": {},
     "output_type": "execute_result"
    }
   ],
   "source": [
    "data.isna().sum()"
   ]
  },
  {
   "cell_type": "code",
   "execution_count": 45,
   "id": "721c1a99-3cf2-4cbc-bdb8-d60b37d118c3",
   "metadata": {},
   "outputs": [],
   "source": [
    "# renaming column name\n",
    "data.rename(columns={'No. of Bedrooms': 'Bedrooms', '24X7Security': 'Security'}, inplace=True)"
   ]
  },
  {
   "cell_type": "code",
   "execution_count": 46,
   "id": "ba9e36e8-bbc1-4782-811b-4b2735d2f23c",
   "metadata": {},
   "outputs": [],
   "source": [
    "data = data[['Price', 'Area', 'Location', 'Bedrooms', 'Security']]"
   ]
  },
  {
   "cell_type": "code",
   "execution_count": 47,
   "id": "61273b84-5bdf-445b-aca3-bf40214bee7c",
   "metadata": {},
   "outputs": [
    {
     "data": {
      "text/html": [
       "<div>\n",
       "<style scoped>\n",
       "    .dataframe tbody tr th:only-of-type {\n",
       "        vertical-align: middle;\n",
       "    }\n",
       "\n",
       "    .dataframe tbody tr th {\n",
       "        vertical-align: top;\n",
       "    }\n",
       "\n",
       "    .dataframe thead th {\n",
       "        text-align: right;\n",
       "    }\n",
       "</style>\n",
       "<table border=\"1\" class=\"dataframe\">\n",
       "  <thead>\n",
       "    <tr style=\"text-align: right;\">\n",
       "      <th></th>\n",
       "      <th>Price</th>\n",
       "      <th>Area</th>\n",
       "      <th>Location</th>\n",
       "      <th>Bedrooms</th>\n",
       "      <th>Security</th>\n",
       "    </tr>\n",
       "  </thead>\n",
       "  <tbody>\n",
       "    <tr>\n",
       "      <th>0</th>\n",
       "      <td>6968000</td>\n",
       "      <td>1340</td>\n",
       "      <td>Nizampet</td>\n",
       "      <td>2</td>\n",
       "      <td>1</td>\n",
       "    </tr>\n",
       "    <tr>\n",
       "      <th>1</th>\n",
       "      <td>29000000</td>\n",
       "      <td>3498</td>\n",
       "      <td>Hitech City</td>\n",
       "      <td>4</td>\n",
       "      <td>1</td>\n",
       "    </tr>\n",
       "    <tr>\n",
       "      <th>2</th>\n",
       "      <td>6590000</td>\n",
       "      <td>1318</td>\n",
       "      <td>Manikonda</td>\n",
       "      <td>2</td>\n",
       "      <td>0</td>\n",
       "    </tr>\n",
       "    <tr>\n",
       "      <th>3</th>\n",
       "      <td>5739000</td>\n",
       "      <td>1295</td>\n",
       "      <td>Alwal</td>\n",
       "      <td>3</td>\n",
       "      <td>0</td>\n",
       "    </tr>\n",
       "    <tr>\n",
       "      <th>4</th>\n",
       "      <td>5679000</td>\n",
       "      <td>1145</td>\n",
       "      <td>Kukatpally</td>\n",
       "      <td>2</td>\n",
       "      <td>0</td>\n",
       "    </tr>\n",
       "  </tbody>\n",
       "</table>\n",
       "</div>"
      ],
      "text/plain": [
       "      Price  Area     Location  Bedrooms  Security\n",
       "0   6968000  1340     Nizampet         2         1\n",
       "1  29000000  3498  Hitech City         4         1\n",
       "2   6590000  1318    Manikonda         2         0\n",
       "3   5739000  1295        Alwal         3         0\n",
       "4   5679000  1145   Kukatpally         2         0"
      ]
     },
     "execution_count": 47,
     "metadata": {},
     "output_type": "execute_result"
    }
   ],
   "source": [
    "data.head()\n"
   ]
  },
  {
   "cell_type": "code",
   "execution_count": 48,
   "id": "9fe31d50-7ee8-4cf1-bd2c-2c24302556ab",
   "metadata": {},
   "outputs": [
    {
     "data": {
      "text/html": [
       "<div>\n",
       "<style scoped>\n",
       "    .dataframe tbody tr th:only-of-type {\n",
       "        vertical-align: middle;\n",
       "    }\n",
       "\n",
       "    .dataframe tbody tr th {\n",
       "        vertical-align: top;\n",
       "    }\n",
       "\n",
       "    .dataframe thead th {\n",
       "        text-align: right;\n",
       "    }\n",
       "</style>\n",
       "<table border=\"1\" class=\"dataframe\">\n",
       "  <thead>\n",
       "    <tr style=\"text-align: right;\">\n",
       "      <th></th>\n",
       "      <th>Price</th>\n",
       "      <th>Area</th>\n",
       "      <th>Bedrooms</th>\n",
       "      <th>Security</th>\n",
       "    </tr>\n",
       "  </thead>\n",
       "  <tbody>\n",
       "    <tr>\n",
       "      <th>count</th>\n",
       "      <td>2.518000e+03</td>\n",
       "      <td>2518.000000</td>\n",
       "      <td>2518.000000</td>\n",
       "      <td>2518.000000</td>\n",
       "    </tr>\n",
       "    <tr>\n",
       "      <th>mean</th>\n",
       "      <td>9.818380e+06</td>\n",
       "      <td>1644.571088</td>\n",
       "      <td>2.623511</td>\n",
       "      <td>0.706513</td>\n",
       "    </tr>\n",
       "    <tr>\n",
       "      <th>std</th>\n",
       "      <td>8.777113e+06</td>\n",
       "      <td>746.256956</td>\n",
       "      <td>0.687330</td>\n",
       "      <td>1.615641</td>\n",
       "    </tr>\n",
       "    <tr>\n",
       "      <th>min</th>\n",
       "      <td>2.000000e+06</td>\n",
       "      <td>500.000000</td>\n",
       "      <td>1.000000</td>\n",
       "      <td>0.000000</td>\n",
       "    </tr>\n",
       "    <tr>\n",
       "      <th>25%</th>\n",
       "      <td>4.760000e+06</td>\n",
       "      <td>1160.000000</td>\n",
       "      <td>2.000000</td>\n",
       "      <td>0.000000</td>\n",
       "    </tr>\n",
       "    <tr>\n",
       "      <th>50%</th>\n",
       "      <td>7.754000e+06</td>\n",
       "      <td>1500.000000</td>\n",
       "      <td>3.000000</td>\n",
       "      <td>0.000000</td>\n",
       "    </tr>\n",
       "    <tr>\n",
       "      <th>75%</th>\n",
       "      <td>1.090000e+07</td>\n",
       "      <td>1829.000000</td>\n",
       "      <td>3.000000</td>\n",
       "      <td>1.000000</td>\n",
       "    </tr>\n",
       "    <tr>\n",
       "      <th>max</th>\n",
       "      <td>1.650000e+08</td>\n",
       "      <td>9400.000000</td>\n",
       "      <td>8.000000</td>\n",
       "      <td>9.000000</td>\n",
       "    </tr>\n",
       "  </tbody>\n",
       "</table>\n",
       "</div>"
      ],
      "text/plain": [
       "              Price         Area     Bedrooms     Security\n",
       "count  2.518000e+03  2518.000000  2518.000000  2518.000000\n",
       "mean   9.818380e+06  1644.571088     2.623511     0.706513\n",
       "std    8.777113e+06   746.256956     0.687330     1.615641\n",
       "min    2.000000e+06   500.000000     1.000000     0.000000\n",
       "25%    4.760000e+06  1160.000000     2.000000     0.000000\n",
       "50%    7.754000e+06  1500.000000     3.000000     0.000000\n",
       "75%    1.090000e+07  1829.000000     3.000000     1.000000\n",
       "max    1.650000e+08  9400.000000     8.000000     9.000000"
      ]
     },
     "execution_count": 48,
     "metadata": {},
     "output_type": "execute_result"
    }
   ],
   "source": [
    "data.describe()"
   ]
  },
  {
   "cell_type": "code",
   "execution_count": 49,
   "id": "a5b2cc06-2dff-42de-8c29-705e1e041aaa",
   "metadata": {},
   "outputs": [
    {
     "name": "stdout",
     "output_type": "stream",
     "text": [
      "<class 'pandas.core.frame.DataFrame'>\n",
      "RangeIndex: 2518 entries, 0 to 2517\n",
      "Data columns (total 5 columns):\n",
      " #   Column    Non-Null Count  Dtype \n",
      "---  ------    --------------  ----- \n",
      " 0   Price     2518 non-null   int64 \n",
      " 1   Area      2518 non-null   int64 \n",
      " 2   Location  2518 non-null   object\n",
      " 3   Bedrooms  2518 non-null   int64 \n",
      " 4   Security  2518 non-null   int64 \n",
      "dtypes: int64(4), object(1)\n",
      "memory usage: 98.5+ KB\n"
     ]
    }
   ],
   "source": [
    "data.info()"
   ]
  },
  {
   "cell_type": "code",
   "execution_count": 50,
   "id": "ad9162ed-1258-4074-ba20-3582b06c85f6",
   "metadata": {},
   "outputs": [
    {
     "name": "stdout",
     "output_type": "stream",
     "text": [
      "Price\n",
      "3500000    48\n",
      "3900000    46\n",
      "6000000    45\n",
      "4500000    43\n",
      "8000000    39\n",
      "           ..\n",
      "6656999     1\n",
      "6312000     1\n",
      "5166000     1\n",
      "5367000     1\n",
      "6250000     1\n",
      "Name: count, Length: 690, dtype: int64\n",
      "********************\n",
      "Area\n",
      "1100    76\n",
      "1150    76\n",
      "1200    69\n",
      "1050    67\n",
      "1515    50\n",
      "        ..\n",
      "1334     1\n",
      "1355     1\n",
      "1738     1\n",
      "3049     1\n",
      "1805     1\n",
      "Name: count, Length: 579, dtype: int64\n",
      "********************\n",
      "Location\n",
      "Kukatpally                       166\n",
      "Kondapur                         149\n",
      "Manikonda                        115\n",
      "Nizampet                         106\n",
      "Gachibowli                        83\n",
      "                                ... \n",
      "Basheer Bagh                       1\n",
      "Miyapur HMT Swarnapuri Colony      1\n",
      "Adda Gutta                         1\n",
      "Mayuri Nagar                       1\n",
      "Paradise Circle                    1\n",
      "Name: count, Length: 243, dtype: int64\n",
      "********************\n",
      "Bedrooms\n",
      "3    1207\n",
      "2    1090\n",
      "4     160\n",
      "1      37\n",
      "5      20\n",
      "8       2\n",
      "6       2\n",
      "Name: count, dtype: int64\n",
      "********************\n",
      "Security\n",
      "0    1411\n",
      "1    1023\n",
      "9      84\n",
      "Name: count, dtype: int64\n",
      "********************\n"
     ]
    }
   ],
   "source": [
    "for col in data.columns:\n",
    "    print(data[col].value_counts())\n",
    "    print(\"*\" * 20)"
   ]
  },
  {
   "cell_type": "code",
   "execution_count": 51,
   "id": "07a36b16-d8a0-4995-a38c-673bd47cb1fd",
   "metadata": {},
   "outputs": [
    {
     "data": {
      "text/plain": [
       "0       1\n",
       "1       1\n",
       "2       0\n",
       "3       0\n",
       "4       0\n",
       "       ..\n",
       "2513    9\n",
       "2514    9\n",
       "2515    9\n",
       "2516    9\n",
       "2517    9\n",
       "Name: Security, Length: 2518, dtype: int64"
      ]
     },
     "execution_count": 51,
     "metadata": {},
     "output_type": "execute_result"
    }
   ],
   "source": [
    "data['Security']"
   ]
  },
  {
   "cell_type": "code",
   "execution_count": 52,
   "id": "b97ea5f3-1d4c-46b4-9bdd-5d3f1b10ff7f",
   "metadata": {},
   "outputs": [],
   "source": [
    "# in security columns we have few tuples which have value 9 which is an outlier\n",
    "data = data.query('Security != 9')"
   ]
  },
  {
   "cell_type": "code",
   "execution_count": 53,
   "id": "d2a7edf7-6915-4998-9aa6-6aa127bade9e",
   "metadata": {},
   "outputs": [
    {
     "data": {
      "text/plain": [
       "Security\n",
       "0    1411\n",
       "1    1023\n",
       "Name: count, dtype: int64"
      ]
     },
     "execution_count": 53,
     "metadata": {},
     "output_type": "execute_result"
    }
   ],
   "source": [
    "data['Security'].value_counts()"
   ]
  },
  {
   "cell_type": "code",
   "execution_count": 54,
   "id": "72dfaa34-c8b3-4290-89a6-66497952470b",
   "metadata": {},
   "outputs": [
    {
     "data": {
      "text/plain": [
       "(2434, 5)"
      ]
     },
     "execution_count": 54,
     "metadata": {},
     "output_type": "execute_result"
    }
   ],
   "source": [
    "data.shape\n"
   ]
  },
  {
   "cell_type": "markdown",
   "id": "50039367-2213-4c80-8cd1-fb55c5d406b4",
   "metadata": {},
   "source": [
    "Price per sq.ft"
   ]
  },
  {
   "cell_type": "code",
   "execution_count": 55,
   "id": "64cd5e95-9203-4d02-93aa-229521e750ef",
   "metadata": {},
   "outputs": [],
   "source": [
    "data['price_per_sqft'] =  data['Price'] / data['Area'] "
   ]
  },
  {
   "cell_type": "code",
   "execution_count": 56,
   "id": "845bb119-c882-4867-9eae-addce6ad3fd2",
   "metadata": {},
   "outputs": [
    {
     "data": {
      "text/plain": [
       "0       5200.000000\n",
       "1       8290.451687\n",
       "2       5000.000000\n",
       "3       4431.660232\n",
       "4       4959.825328\n",
       "           ...     \n",
       "2429    3600.000000\n",
       "2430    3499.500500\n",
       "2431    3610.573823\n",
       "2432    2500.000000\n",
       "2433    3694.779116\n",
       "Name: price_per_sqft, Length: 2434, dtype: float64"
      ]
     },
     "execution_count": 56,
     "metadata": {},
     "output_type": "execute_result"
    }
   ],
   "source": [
    "data['price_per_sqft']"
   ]
  },
  {
   "cell_type": "code",
   "execution_count": 57,
   "id": "bd4c1af0-336d-48c4-945e-3710b97072de",
   "metadata": {},
   "outputs": [
    {
     "data": {
      "text/plain": [
       "Location\n",
       "Kukatpally                163\n",
       "Kondapur                  142\n",
       "Manikonda                 112\n",
       "Nizampet                  104\n",
       "Hitech City                81\n",
       "                         ... \n",
       "ALIND Employees Colony      1\n",
       "Ameerpet                    1\n",
       "Methodist Colony            1\n",
       "NRSA Colony                 1\n",
       "chandrayangutta             1\n",
       "Name: count, Length: 239, dtype: int64"
      ]
     },
     "execution_count": 57,
     "metadata": {},
     "output_type": "execute_result"
    }
   ],
   "source": [
    "data['Location'].value_counts()"
   ]
  },
  {
   "cell_type": "code",
   "execution_count": 58,
   "id": "f56f1435-8ea0-4fe4-aab5-f4e4f099fa11",
   "metadata": {},
   "outputs": [],
   "source": [
    "# we have around 239 different locations. We cannot pass them to our model. \n",
    "# Which ever locations have less frequency, we have to replace with others."
   ]
  },
  {
   "cell_type": "code",
   "execution_count": 59,
   "id": "c394212d-5f64-42bb-b5f8-558650a22439",
   "metadata": {},
   "outputs": [],
   "source": [
    "location_count = data['Location'].value_counts()"
   ]
  },
  {
   "cell_type": "code",
   "execution_count": 60,
   "id": "0832d4ac-8bba-44d3-9292-1e32263c5daf",
   "metadata": {},
   "outputs": [
    {
     "data": {
      "text/plain": [
       "Location\n",
       "Kukatpally                163\n",
       "Kondapur                  142\n",
       "Manikonda                 112\n",
       "Nizampet                  104\n",
       "Hitech City                81\n",
       "                         ... \n",
       "ALIND Employees Colony      1\n",
       "Ameerpet                    1\n",
       "Methodist Colony            1\n",
       "NRSA Colony                 1\n",
       "chandrayangutta             1\n",
       "Name: count, Length: 239, dtype: int64"
      ]
     },
     "execution_count": 60,
     "metadata": {},
     "output_type": "execute_result"
    }
   ],
   "source": [
    "location_count"
   ]
  },
  {
   "cell_type": "code",
   "execution_count": 61,
   "id": "b08fbf6e-4ca4-4dd8-b5d9-a543fbb8f1f2",
   "metadata": {},
   "outputs": [
    {
     "data": {
      "text/plain": [
       "Location\n",
       "Gandipet                  10\n",
       "Mehdipatnam               10\n",
       "Nallakunta                 9\n",
       "Chaitanyapuri              9\n",
       "Pati                       9\n",
       "                          ..\n",
       "ALIND Employees Colony     1\n",
       "Ameerpet                   1\n",
       "Methodist Colony           1\n",
       "NRSA Colony                1\n",
       "chandrayangutta            1\n",
       "Name: count, Length: 187, dtype: int64"
      ]
     },
     "execution_count": 61,
     "metadata": {},
     "output_type": "execute_result"
    }
   ],
   "source": [
    "location_counts_less_than_10 = location_count[location_count <= 10]\n",
    "location_counts_less_than_10\n"
   ]
  },
  {
   "cell_type": "code",
   "execution_count": 62,
   "id": "7877a420-5208-4d62-bfea-a6ee09c004b3",
   "metadata": {},
   "outputs": [],
   "source": [
    "data['Location'] = data['Location'].apply(lambda x:'other' if x in location_counts_less_than_10 else x)"
   ]
  },
  {
   "cell_type": "code",
   "execution_count": 63,
   "id": "feb3d48e-95c6-4957-aaf8-19cc9c52847a",
   "metadata": {},
   "outputs": [
    {
     "data": {
      "text/plain": [
       "Location\n",
       "other                        469\n",
       "Kukatpally                   163\n",
       "Kondapur                     142\n",
       "Manikonda                    112\n",
       "Nizampet                     104\n",
       "Hitech City                   81\n",
       "Gachibowli                    80\n",
       "Kokapet                       79\n",
       "Miyapur                       78\n",
       "Pragathi Nagar Kukatpally     56\n",
       "Bachupally Road               55\n",
       "Puppalaguda                   51\n",
       "Narsingi                      50\n",
       "Gajularamaram                 48\n",
       "Nanakramguda                  45\n",
       "Beeramguda                    45\n",
       "Banjara Hills                 44\n",
       "Appa Junction                 43\n",
       "Tellapur                      43\n",
       "Jubilee Hills                 41\n",
       "Serilingampally               41\n",
       "Krishna Reddy Pet             34\n",
       "Madhapur                      31\n",
       "Appa Junction Peerancheru     28\n",
       "Nallagandla Gachibowli        28\n",
       "Bachupally                    27\n",
       "Malkajgiri                    22\n",
       "Mallampet                     22\n",
       "Begumpet                      21\n",
       "Aminpur                       20\n",
       "Alwal                         20\n",
       "Sanath Nagar                  18\n",
       "Balanagar                     18\n",
       "Mallapur                      18\n",
       "West Marredpally              17\n",
       "Kollur Road                   16\n",
       "Attapur                       16\n",
       "Nagole                        16\n",
       "Patancheru                    15\n",
       "Kompally                      15\n",
       "Bandlaguda Jagir              15\n",
       "Chandanagar                   14\n",
       "East Marredpally              14\n",
       "Adibatla                      13\n",
       "LB Nagar                      13\n",
       "Shaikpet                      13\n",
       "Tarnaka                       12\n",
       "Gajulramaram Kukatpally       12\n",
       "Madinaguda                    12\n",
       "TellapurOsman Nagar Road      11\n",
       "Kachiguda                     11\n",
       "Darga Khaliz Khan             11\n",
       "Toli Chowki                   11\n",
       "Name: count, dtype: int64"
      ]
     },
     "execution_count": 63,
     "metadata": {},
     "output_type": "execute_result"
    }
   ],
   "source": [
    "data['Location'].value_counts()"
   ]
  },
  {
   "cell_type": "markdown",
   "id": "2de870a8-73f9-4eca-9289-05b411fae1ce",
   "metadata": {},
   "source": [
    "Outlier detection and removal"
   ]
  },
  {
   "cell_type": "code",
   "execution_count": 64,
   "id": "3b2feea0-1111-48b4-add0-6c08b94da54a",
   "metadata": {},
   "outputs": [
    {
     "data": {
      "text/html": [
       "<div>\n",
       "<style scoped>\n",
       "    .dataframe tbody tr th:only-of-type {\n",
       "        vertical-align: middle;\n",
       "    }\n",
       "\n",
       "    .dataframe tbody tr th {\n",
       "        vertical-align: top;\n",
       "    }\n",
       "\n",
       "    .dataframe thead th {\n",
       "        text-align: right;\n",
       "    }\n",
       "</style>\n",
       "<table border=\"1\" class=\"dataframe\">\n",
       "  <thead>\n",
       "    <tr style=\"text-align: right;\">\n",
       "      <th></th>\n",
       "      <th>Price</th>\n",
       "      <th>Area</th>\n",
       "      <th>Bedrooms</th>\n",
       "      <th>Security</th>\n",
       "      <th>price_per_sqft</th>\n",
       "    </tr>\n",
       "  </thead>\n",
       "  <tbody>\n",
       "    <tr>\n",
       "      <th>count</th>\n",
       "      <td>2.434000e+03</td>\n",
       "      <td>2434.000000</td>\n",
       "      <td>2434.000000</td>\n",
       "      <td>2434.000000</td>\n",
       "      <td>2434.000000</td>\n",
       "    </tr>\n",
       "    <tr>\n",
       "      <th>mean</th>\n",
       "      <td>9.844925e+06</td>\n",
       "      <td>1644.151602</td>\n",
       "      <td>2.626130</td>\n",
       "      <td>0.420296</td>\n",
       "      <td>5463.714463</td>\n",
       "    </tr>\n",
       "    <tr>\n",
       "      <th>std</th>\n",
       "      <td>8.852947e+06</td>\n",
       "      <td>748.134812</td>\n",
       "      <td>0.685046</td>\n",
       "      <td>0.493708</td>\n",
       "      <td>2247.821181</td>\n",
       "    </tr>\n",
       "    <tr>\n",
       "      <th>min</th>\n",
       "      <td>2.000000e+06</td>\n",
       "      <td>500.000000</td>\n",
       "      <td>1.000000</td>\n",
       "      <td>0.000000</td>\n",
       "      <td>2000.000000</td>\n",
       "    </tr>\n",
       "    <tr>\n",
       "      <th>25%</th>\n",
       "      <td>4.760000e+06</td>\n",
       "      <td>1165.000000</td>\n",
       "      <td>2.000000</td>\n",
       "      <td>0.000000</td>\n",
       "      <td>4000.000000</td>\n",
       "    </tr>\n",
       "    <tr>\n",
       "      <th>50%</th>\n",
       "      <td>7.800000e+06</td>\n",
       "      <td>1500.000000</td>\n",
       "      <td>3.000000</td>\n",
       "      <td>0.000000</td>\n",
       "      <td>5000.000000</td>\n",
       "    </tr>\n",
       "    <tr>\n",
       "      <th>75%</th>\n",
       "      <td>1.090000e+07</td>\n",
       "      <td>1820.000000</td>\n",
       "      <td>3.000000</td>\n",
       "      <td>1.000000</td>\n",
       "      <td>6474.820144</td>\n",
       "    </tr>\n",
       "    <tr>\n",
       "      <th>max</th>\n",
       "      <td>1.650000e+08</td>\n",
       "      <td>9400.000000</td>\n",
       "      <td>8.000000</td>\n",
       "      <td>1.000000</td>\n",
       "      <td>60000.000000</td>\n",
       "    </tr>\n",
       "  </tbody>\n",
       "</table>\n",
       "</div>"
      ],
      "text/plain": [
       "              Price         Area     Bedrooms     Security  price_per_sqft\n",
       "count  2.434000e+03  2434.000000  2434.000000  2434.000000     2434.000000\n",
       "mean   9.844925e+06  1644.151602     2.626130     0.420296     5463.714463\n",
       "std    8.852947e+06   748.134812     0.685046     0.493708     2247.821181\n",
       "min    2.000000e+06   500.000000     1.000000     0.000000     2000.000000\n",
       "25%    4.760000e+06  1165.000000     2.000000     0.000000     4000.000000\n",
       "50%    7.800000e+06  1500.000000     3.000000     0.000000     5000.000000\n",
       "75%    1.090000e+07  1820.000000     3.000000     1.000000     6474.820144\n",
       "max    1.650000e+08  9400.000000     8.000000     1.000000    60000.000000"
      ]
     },
     "execution_count": 64,
     "metadata": {},
     "output_type": "execute_result"
    }
   ],
   "source": [
    "data.describe()"
   ]
  },
  {
   "cell_type": "code",
   "execution_count": 65,
   "id": "5d1234d2-3b88-4c26-b970-547286c00f2c",
   "metadata": {},
   "outputs": [
    {
     "data": {
      "text/plain": [
       "count    2434.000000\n",
       "mean      616.743878\n",
       "std       153.335707\n",
       "min       250.000000\n",
       "25%       526.666667\n",
       "50%       577.500000\n",
       "75%       656.625000\n",
       "max      1733.333333\n",
       "dtype: float64"
      ]
     },
     "execution_count": 65,
     "metadata": {},
     "output_type": "execute_result"
    }
   ],
   "source": [
    " (data['Area']/data['Bedrooms']).describe()\n"
   ]
  },
  {
   "cell_type": "code",
   "execution_count": 66,
   "id": "b92729c7-864c-4e07-98e4-aed35ba2f792",
   "metadata": {},
   "outputs": [
    {
     "data": {
      "text/plain": [
       "count    2431.000000\n",
       "mean      617.183608\n",
       "std       152.917143\n",
       "min       300.000000\n",
       "25%       526.666667\n",
       "50%       577.500000\n",
       "75%       656.666667\n",
       "max      1733.333333\n",
       "dtype: float64"
      ]
     },
     "execution_count": 66,
     "metadata": {},
     "output_type": "execute_result"
    }
   ],
   "source": [
    "# removing those rows whose area per bedroom is less than 300\n",
    "data = data[((data['Area']/data['Bedrooms']) >= 300)]\n",
    "(data['Area']/data['Bedrooms']).describe()\n"
   ]
  },
  {
   "cell_type": "code",
   "execution_count": 67,
   "id": "55c50e01-b2d3-4c63-a62f-df19f9d7622a",
   "metadata": {},
   "outputs": [
    {
     "data": {
      "text/plain": [
       "count     2431.000000\n",
       "mean      5464.062755\n",
       "std       2249.111407\n",
       "min       2000.000000\n",
       "25%       4000.000000\n",
       "50%       5000.000000\n",
       "75%       6474.820144\n",
       "max      60000.000000\n",
       "Name: price_per_sqft, dtype: float64"
      ]
     },
     "execution_count": 67,
     "metadata": {},
     "output_type": "execute_result"
    }
   ],
   "source": [
    "data['price_per_sqft'].describe()"
   ]
  },
  {
   "cell_type": "code",
   "execution_count": 68,
   "id": "9fe3909c-9b00-46e7-b786-1bc7866c254d",
   "metadata": {},
   "outputs": [
    {
     "data": {
      "text/plain": [
       "(2431, 6)"
      ]
     },
     "execution_count": 68,
     "metadata": {},
     "output_type": "execute_result"
    }
   ],
   "source": [
    "data.shape"
   ]
  },
  {
   "cell_type": "code",
   "execution_count": 69,
   "id": "54fe9eba-4a70-497a-8b02-2c324db312dc",
   "metadata": {},
   "outputs": [
    {
     "data": {
      "text/html": [
       "<div>\n",
       "<style scoped>\n",
       "    .dataframe tbody tr th:only-of-type {\n",
       "        vertical-align: middle;\n",
       "    }\n",
       "\n",
       "    .dataframe tbody tr th {\n",
       "        vertical-align: top;\n",
       "    }\n",
       "\n",
       "    .dataframe thead th {\n",
       "        text-align: right;\n",
       "    }\n",
       "</style>\n",
       "<table border=\"1\" class=\"dataframe\">\n",
       "  <thead>\n",
       "    <tr style=\"text-align: right;\">\n",
       "      <th></th>\n",
       "      <th>Price</th>\n",
       "      <th>Area</th>\n",
       "      <th>Location</th>\n",
       "      <th>Bedrooms</th>\n",
       "      <th>Security</th>\n",
       "      <th>price_per_sqft</th>\n",
       "    </tr>\n",
       "  </thead>\n",
       "  <tbody>\n",
       "    <tr>\n",
       "      <th>0</th>\n",
       "      <td>6968000</td>\n",
       "      <td>1340</td>\n",
       "      <td>Nizampet</td>\n",
       "      <td>2</td>\n",
       "      <td>1</td>\n",
       "      <td>5200.000000</td>\n",
       "    </tr>\n",
       "    <tr>\n",
       "      <th>1</th>\n",
       "      <td>29000000</td>\n",
       "      <td>3498</td>\n",
       "      <td>Hitech City</td>\n",
       "      <td>4</td>\n",
       "      <td>1</td>\n",
       "      <td>8290.451687</td>\n",
       "    </tr>\n",
       "    <tr>\n",
       "      <th>2</th>\n",
       "      <td>6590000</td>\n",
       "      <td>1318</td>\n",
       "      <td>Manikonda</td>\n",
       "      <td>2</td>\n",
       "      <td>0</td>\n",
       "      <td>5000.000000</td>\n",
       "    </tr>\n",
       "    <tr>\n",
       "      <th>3</th>\n",
       "      <td>5739000</td>\n",
       "      <td>1295</td>\n",
       "      <td>Alwal</td>\n",
       "      <td>3</td>\n",
       "      <td>0</td>\n",
       "      <td>4431.660232</td>\n",
       "    </tr>\n",
       "    <tr>\n",
       "      <th>4</th>\n",
       "      <td>5679000</td>\n",
       "      <td>1145</td>\n",
       "      <td>Kukatpally</td>\n",
       "      <td>2</td>\n",
       "      <td>0</td>\n",
       "      <td>4959.825328</td>\n",
       "    </tr>\n",
       "  </tbody>\n",
       "</table>\n",
       "</div>"
      ],
      "text/plain": [
       "      Price  Area     Location  Bedrooms  Security  price_per_sqft\n",
       "0   6968000  1340     Nizampet         2         1     5200.000000\n",
       "1  29000000  3498  Hitech City         4         1     8290.451687\n",
       "2   6590000  1318    Manikonda         2         0     5000.000000\n",
       "3   5739000  1295        Alwal         3         0     4431.660232\n",
       "4   5679000  1145   Kukatpally         2         0     4959.825328"
      ]
     },
     "execution_count": 69,
     "metadata": {},
     "output_type": "execute_result"
    }
   ],
   "source": [
    "data.head()"
   ]
  },
  {
   "cell_type": "code",
   "execution_count": 71,
   "id": "0be8a8f0-999c-48f7-b8aa-5b8d84bd413d",
   "metadata": {},
   "outputs": [],
   "source": [
    "# removed price_per_sqft because the only use of it is to remove outliers\n",
    "data = data[['Location', 'Area', 'Security', 'Bedrooms', 'Price']]"
   ]
  },
  {
   "cell_type": "code",
   "execution_count": 72,
   "id": "b3160c16-6241-493e-9a09-67d76a1513f5",
   "metadata": {},
   "outputs": [
    {
     "data": {
      "text/html": [
       "<div>\n",
       "<style scoped>\n",
       "    .dataframe tbody tr th:only-of-type {\n",
       "        vertical-align: middle;\n",
       "    }\n",
       "\n",
       "    .dataframe tbody tr th {\n",
       "        vertical-align: top;\n",
       "    }\n",
       "\n",
       "    .dataframe thead th {\n",
       "        text-align: right;\n",
       "    }\n",
       "</style>\n",
       "<table border=\"1\" class=\"dataframe\">\n",
       "  <thead>\n",
       "    <tr style=\"text-align: right;\">\n",
       "      <th></th>\n",
       "      <th>Location</th>\n",
       "      <th>Area</th>\n",
       "      <th>Security</th>\n",
       "      <th>Bedrooms</th>\n",
       "      <th>Price</th>\n",
       "    </tr>\n",
       "  </thead>\n",
       "  <tbody>\n",
       "    <tr>\n",
       "      <th>0</th>\n",
       "      <td>Nizampet</td>\n",
       "      <td>1340</td>\n",
       "      <td>1</td>\n",
       "      <td>2</td>\n",
       "      <td>6968000</td>\n",
       "    </tr>\n",
       "    <tr>\n",
       "      <th>1</th>\n",
       "      <td>Hitech City</td>\n",
       "      <td>3498</td>\n",
       "      <td>1</td>\n",
       "      <td>4</td>\n",
       "      <td>29000000</td>\n",
       "    </tr>\n",
       "    <tr>\n",
       "      <th>2</th>\n",
       "      <td>Manikonda</td>\n",
       "      <td>1318</td>\n",
       "      <td>0</td>\n",
       "      <td>2</td>\n",
       "      <td>6590000</td>\n",
       "    </tr>\n",
       "    <tr>\n",
       "      <th>3</th>\n",
       "      <td>Alwal</td>\n",
       "      <td>1295</td>\n",
       "      <td>0</td>\n",
       "      <td>3</td>\n",
       "      <td>5739000</td>\n",
       "    </tr>\n",
       "    <tr>\n",
       "      <th>4</th>\n",
       "      <td>Kukatpally</td>\n",
       "      <td>1145</td>\n",
       "      <td>0</td>\n",
       "      <td>2</td>\n",
       "      <td>5679000</td>\n",
       "    </tr>\n",
       "  </tbody>\n",
       "</table>\n",
       "</div>"
      ],
      "text/plain": [
       "      Location  Area  Security  Bedrooms     Price\n",
       "0     Nizampet  1340         1         2   6968000\n",
       "1  Hitech City  3498         1         4  29000000\n",
       "2    Manikonda  1318         0         2   6590000\n",
       "3        Alwal  1295         0         3   5739000\n",
       "4   Kukatpally  1145         0         2   5679000"
      ]
     },
     "execution_count": 72,
     "metadata": {},
     "output_type": "execute_result"
    }
   ],
   "source": [
    "data.head()"
   ]
  },
  {
   "cell_type": "markdown",
   "id": "4113d874-217e-4077-99fb-0c9f72c291fa",
   "metadata": {},
   "source": [
    "cleaned data"
   ]
  },
  {
   "cell_type": "code",
   "execution_count": 73,
   "id": "fca05667-0a4d-43a6-8b67-a8694b12be64",
   "metadata": {},
   "outputs": [
    {
     "data": {
      "text/html": [
       "<div>\n",
       "<style scoped>\n",
       "    .dataframe tbody tr th:only-of-type {\n",
       "        vertical-align: middle;\n",
       "    }\n",
       "\n",
       "    .dataframe tbody tr th {\n",
       "        vertical-align: top;\n",
       "    }\n",
       "\n",
       "    .dataframe thead th {\n",
       "        text-align: right;\n",
       "    }\n",
       "</style>\n",
       "<table border=\"1\" class=\"dataframe\">\n",
       "  <thead>\n",
       "    <tr style=\"text-align: right;\">\n",
       "      <th></th>\n",
       "      <th>Location</th>\n",
       "      <th>Area</th>\n",
       "      <th>Security</th>\n",
       "      <th>Bedrooms</th>\n",
       "      <th>Price</th>\n",
       "    </tr>\n",
       "  </thead>\n",
       "  <tbody>\n",
       "    <tr>\n",
       "      <th>0</th>\n",
       "      <td>Nizampet</td>\n",
       "      <td>1340</td>\n",
       "      <td>1</td>\n",
       "      <td>2</td>\n",
       "      <td>6968000</td>\n",
       "    </tr>\n",
       "    <tr>\n",
       "      <th>1</th>\n",
       "      <td>Hitech City</td>\n",
       "      <td>3498</td>\n",
       "      <td>1</td>\n",
       "      <td>4</td>\n",
       "      <td>29000000</td>\n",
       "    </tr>\n",
       "    <tr>\n",
       "      <th>2</th>\n",
       "      <td>Manikonda</td>\n",
       "      <td>1318</td>\n",
       "      <td>0</td>\n",
       "      <td>2</td>\n",
       "      <td>6590000</td>\n",
       "    </tr>\n",
       "    <tr>\n",
       "      <th>3</th>\n",
       "      <td>Alwal</td>\n",
       "      <td>1295</td>\n",
       "      <td>0</td>\n",
       "      <td>3</td>\n",
       "      <td>5739000</td>\n",
       "    </tr>\n",
       "    <tr>\n",
       "      <th>4</th>\n",
       "      <td>Kukatpally</td>\n",
       "      <td>1145</td>\n",
       "      <td>0</td>\n",
       "      <td>2</td>\n",
       "      <td>5679000</td>\n",
       "    </tr>\n",
       "  </tbody>\n",
       "</table>\n",
       "</div>"
      ],
      "text/plain": [
       "      Location  Area  Security  Bedrooms     Price\n",
       "0     Nizampet  1340         1         2   6968000\n",
       "1  Hitech City  3498         1         4  29000000\n",
       "2    Manikonda  1318         0         2   6590000\n",
       "3        Alwal  1295         0         3   5739000\n",
       "4   Kukatpally  1145         0         2   5679000"
      ]
     },
     "execution_count": 73,
     "metadata": {},
     "output_type": "execute_result"
    }
   ],
   "source": [
    "data.head()"
   ]
  },
  {
   "cell_type": "code",
   "execution_count": 74,
   "id": "77e4b300-ffa6-4695-aa9a-60ad769c3c8e",
   "metadata": {},
   "outputs": [],
   "source": [
    "data.to_csv('cleaned_data.csv')"
   ]
  },
  {
   "cell_type": "code",
   "execution_count": 75,
   "id": "d3664966-44e0-454a-943f-3efdbc7021b3",
   "metadata": {},
   "outputs": [],
   "source": [
    "x = data.drop(columns = ['Price'])\n",
    "y = data['Price']"
   ]
  },
  {
   "cell_type": "code",
   "execution_count": 76,
   "id": "9d1e9baa-0d41-41b1-9811-474bbb9f3e26",
   "metadata": {},
   "outputs": [],
   "source": [
    "from sklearn.model_selection import train_test_split\n",
    "from sklearn.linear_model import LinearRegression, Lasso, Ridge\n",
    "from sklearn.preprocessing import OneHotEncoder, StandardScaler\n",
    "from sklearn.compose import make_column_transformer\n",
    "from sklearn.pipeline import make_pipeline\n",
    "from sklearn.metrics import r2_score\n",
    "from sklearn.pipeline import Pipeline\n"
   ]
  },
  {
   "cell_type": "code",
   "execution_count": 77,
   "id": "45918f5f-607c-4cb0-93aa-4802c6c8ab40",
   "metadata": {},
   "outputs": [],
   "source": [
    "X_train, X_test, y_train, y_test = train_test_split(x, y, test_size = 0.2, random_state = 0)"
   ]
  },
  {
   "cell_type": "markdown",
   "id": "9afe2e4b-74ca-440f-a507-b5ac6351c92e",
   "metadata": {},
   "source": [
    "Applying linear regression"
   ]
  },
  {
   "cell_type": "code",
   "execution_count": 78,
   "id": "2d70d1a7-a0ab-4ffb-89c2-da562baac239",
   "metadata": {},
   "outputs": [],
   "source": [
    "column_trans = make_column_transformer((OneHotEncoder(sparse_output = False), ['Location']), remainder = 'passthrough')"
   ]
  },
  {
   "cell_type": "code",
   "execution_count": 79,
   "id": "52135663-789d-483b-a4fe-e3b74c32a384",
   "metadata": {},
   "outputs": [],
   "source": [
    "pipeline = Pipeline([\n",
    "    ('col_trans', column_trans),\n",
    "    ('scaler', StandardScaler()),\n",
    "    ('regression', LinearRegression())\n",
    "])"
   ]
  },
  {
   "cell_type": "code",
   "execution_count": 80,
   "id": "1ba7ec36-1cb7-4252-a919-dc02a3d774bb",
   "metadata": {},
   "outputs": [
    {
     "data": {
      "text/html": [
       "<style>#sk-container-id-1 {color: black;}#sk-container-id-1 pre{padding: 0;}#sk-container-id-1 div.sk-toggleable {background-color: white;}#sk-container-id-1 label.sk-toggleable__label {cursor: pointer;display: block;width: 100%;margin-bottom: 0;padding: 0.3em;box-sizing: border-box;text-align: center;}#sk-container-id-1 label.sk-toggleable__label-arrow:before {content: \"▸\";float: left;margin-right: 0.25em;color: #696969;}#sk-container-id-1 label.sk-toggleable__label-arrow:hover:before {color: black;}#sk-container-id-1 div.sk-estimator:hover label.sk-toggleable__label-arrow:before {color: black;}#sk-container-id-1 div.sk-toggleable__content {max-height: 0;max-width: 0;overflow: hidden;text-align: left;background-color: #f0f8ff;}#sk-container-id-1 div.sk-toggleable__content pre {margin: 0.2em;color: black;border-radius: 0.25em;background-color: #f0f8ff;}#sk-container-id-1 input.sk-toggleable__control:checked~div.sk-toggleable__content {max-height: 200px;max-width: 100%;overflow: auto;}#sk-container-id-1 input.sk-toggleable__control:checked~label.sk-toggleable__label-arrow:before {content: \"▾\";}#sk-container-id-1 div.sk-estimator input.sk-toggleable__control:checked~label.sk-toggleable__label {background-color: #d4ebff;}#sk-container-id-1 div.sk-label input.sk-toggleable__control:checked~label.sk-toggleable__label {background-color: #d4ebff;}#sk-container-id-1 input.sk-hidden--visually {border: 0;clip: rect(1px 1px 1px 1px);clip: rect(1px, 1px, 1px, 1px);height: 1px;margin: -1px;overflow: hidden;padding: 0;position: absolute;width: 1px;}#sk-container-id-1 div.sk-estimator {font-family: monospace;background-color: #f0f8ff;border: 1px dotted black;border-radius: 0.25em;box-sizing: border-box;margin-bottom: 0.5em;}#sk-container-id-1 div.sk-estimator:hover {background-color: #d4ebff;}#sk-container-id-1 div.sk-parallel-item::after {content: \"\";width: 100%;border-bottom: 1px solid gray;flex-grow: 1;}#sk-container-id-1 div.sk-label:hover label.sk-toggleable__label {background-color: #d4ebff;}#sk-container-id-1 div.sk-serial::before {content: \"\";position: absolute;border-left: 1px solid gray;box-sizing: border-box;top: 0;bottom: 0;left: 50%;z-index: 0;}#sk-container-id-1 div.sk-serial {display: flex;flex-direction: column;align-items: center;background-color: white;padding-right: 0.2em;padding-left: 0.2em;position: relative;}#sk-container-id-1 div.sk-item {position: relative;z-index: 1;}#sk-container-id-1 div.sk-parallel {display: flex;align-items: stretch;justify-content: center;background-color: white;position: relative;}#sk-container-id-1 div.sk-item::before, #sk-container-id-1 div.sk-parallel-item::before {content: \"\";position: absolute;border-left: 1px solid gray;box-sizing: border-box;top: 0;bottom: 0;left: 50%;z-index: -1;}#sk-container-id-1 div.sk-parallel-item {display: flex;flex-direction: column;z-index: 1;position: relative;background-color: white;}#sk-container-id-1 div.sk-parallel-item:first-child::after {align-self: flex-end;width: 50%;}#sk-container-id-1 div.sk-parallel-item:last-child::after {align-self: flex-start;width: 50%;}#sk-container-id-1 div.sk-parallel-item:only-child::after {width: 0;}#sk-container-id-1 div.sk-dashed-wrapped {border: 1px dashed gray;margin: 0 0.4em 0.5em 0.4em;box-sizing: border-box;padding-bottom: 0.4em;background-color: white;}#sk-container-id-1 div.sk-label label {font-family: monospace;font-weight: bold;display: inline-block;line-height: 1.2em;}#sk-container-id-1 div.sk-label-container {text-align: center;}#sk-container-id-1 div.sk-container {/* jupyter's `normalize.less` sets `[hidden] { display: none; }` but bootstrap.min.css set `[hidden] { display: none !important; }` so we also need the `!important` here to be able to override the default hidden behavior on the sphinx rendered scikit-learn.org. See: https://github.com/scikit-learn/scikit-learn/issues/21755 */display: inline-block !important;position: relative;}#sk-container-id-1 div.sk-text-repr-fallback {display: none;}</style><div id=\"sk-container-id-1\" class=\"sk-top-container\"><div class=\"sk-text-repr-fallback\"><pre>Pipeline(steps=[(&#x27;col_trans&#x27;,\n",
       "                 ColumnTransformer(remainder=&#x27;passthrough&#x27;,\n",
       "                                   transformers=[(&#x27;onehotencoder&#x27;,\n",
       "                                                  OneHotEncoder(sparse_output=False),\n",
       "                                                  [&#x27;Location&#x27;])])),\n",
       "                (&#x27;scaler&#x27;, StandardScaler()),\n",
       "                (&#x27;regression&#x27;, LinearRegression())])</pre><b>In a Jupyter environment, please rerun this cell to show the HTML representation or trust the notebook. <br />On GitHub, the HTML representation is unable to render, please try loading this page with nbviewer.org.</b></div><div class=\"sk-container\" hidden><div class=\"sk-item sk-dashed-wrapped\"><div class=\"sk-label-container\"><div class=\"sk-label sk-toggleable\"><input class=\"sk-toggleable__control sk-hidden--visually\" id=\"sk-estimator-id-1\" type=\"checkbox\" ><label for=\"sk-estimator-id-1\" class=\"sk-toggleable__label sk-toggleable__label-arrow\">Pipeline</label><div class=\"sk-toggleable__content\"><pre>Pipeline(steps=[(&#x27;col_trans&#x27;,\n",
       "                 ColumnTransformer(remainder=&#x27;passthrough&#x27;,\n",
       "                                   transformers=[(&#x27;onehotencoder&#x27;,\n",
       "                                                  OneHotEncoder(sparse_output=False),\n",
       "                                                  [&#x27;Location&#x27;])])),\n",
       "                (&#x27;scaler&#x27;, StandardScaler()),\n",
       "                (&#x27;regression&#x27;, LinearRegression())])</pre></div></div></div><div class=\"sk-serial\"><div class=\"sk-item sk-dashed-wrapped\"><div class=\"sk-label-container\"><div class=\"sk-label sk-toggleable\"><input class=\"sk-toggleable__control sk-hidden--visually\" id=\"sk-estimator-id-2\" type=\"checkbox\" ><label for=\"sk-estimator-id-2\" class=\"sk-toggleable__label sk-toggleable__label-arrow\">col_trans: ColumnTransformer</label><div class=\"sk-toggleable__content\"><pre>ColumnTransformer(remainder=&#x27;passthrough&#x27;,\n",
       "                  transformers=[(&#x27;onehotencoder&#x27;,\n",
       "                                 OneHotEncoder(sparse_output=False),\n",
       "                                 [&#x27;Location&#x27;])])</pre></div></div></div><div class=\"sk-parallel\"><div class=\"sk-parallel-item\"><div class=\"sk-item\"><div class=\"sk-label-container\"><div class=\"sk-label sk-toggleable\"><input class=\"sk-toggleable__control sk-hidden--visually\" id=\"sk-estimator-id-3\" type=\"checkbox\" ><label for=\"sk-estimator-id-3\" class=\"sk-toggleable__label sk-toggleable__label-arrow\">onehotencoder</label><div class=\"sk-toggleable__content\"><pre>[&#x27;Location&#x27;]</pre></div></div></div><div class=\"sk-serial\"><div class=\"sk-item\"><div class=\"sk-estimator sk-toggleable\"><input class=\"sk-toggleable__control sk-hidden--visually\" id=\"sk-estimator-id-4\" type=\"checkbox\" ><label for=\"sk-estimator-id-4\" class=\"sk-toggleable__label sk-toggleable__label-arrow\">OneHotEncoder</label><div class=\"sk-toggleable__content\"><pre>OneHotEncoder(sparse_output=False)</pre></div></div></div></div></div></div><div class=\"sk-parallel-item\"><div class=\"sk-item\"><div class=\"sk-label-container\"><div class=\"sk-label sk-toggleable\"><input class=\"sk-toggleable__control sk-hidden--visually\" id=\"sk-estimator-id-5\" type=\"checkbox\" ><label for=\"sk-estimator-id-5\" class=\"sk-toggleable__label sk-toggleable__label-arrow\">remainder</label><div class=\"sk-toggleable__content\"><pre>[&#x27;Area&#x27;, &#x27;Security&#x27;, &#x27;Bedrooms&#x27;]</pre></div></div></div><div class=\"sk-serial\"><div class=\"sk-item\"><div class=\"sk-estimator sk-toggleable\"><input class=\"sk-toggleable__control sk-hidden--visually\" id=\"sk-estimator-id-6\" type=\"checkbox\" ><label for=\"sk-estimator-id-6\" class=\"sk-toggleable__label sk-toggleable__label-arrow\">passthrough</label><div class=\"sk-toggleable__content\"><pre>passthrough</pre></div></div></div></div></div></div></div></div><div class=\"sk-item\"><div class=\"sk-estimator sk-toggleable\"><input class=\"sk-toggleable__control sk-hidden--visually\" id=\"sk-estimator-id-7\" type=\"checkbox\" ><label for=\"sk-estimator-id-7\" class=\"sk-toggleable__label sk-toggleable__label-arrow\">StandardScaler</label><div class=\"sk-toggleable__content\"><pre>StandardScaler()</pre></div></div></div><div class=\"sk-item\"><div class=\"sk-estimator sk-toggleable\"><input class=\"sk-toggleable__control sk-hidden--visually\" id=\"sk-estimator-id-8\" type=\"checkbox\" ><label for=\"sk-estimator-id-8\" class=\"sk-toggleable__label sk-toggleable__label-arrow\">LinearRegression</label><div class=\"sk-toggleable__content\"><pre>LinearRegression()</pre></div></div></div></div></div></div></div>"
      ],
      "text/plain": [
       "Pipeline(steps=[('col_trans',\n",
       "                 ColumnTransformer(remainder='passthrough',\n",
       "                                   transformers=[('onehotencoder',\n",
       "                                                  OneHotEncoder(sparse_output=False),\n",
       "                                                  ['Location'])])),\n",
       "                ('scaler', StandardScaler()),\n",
       "                ('regression', LinearRegression())])"
      ]
     },
     "execution_count": 80,
     "metadata": {},
     "output_type": "execute_result"
    }
   ],
   "source": [
    "pipeline.fit(X_train, y_train) "
   ]
  },
  {
   "cell_type": "code",
   "execution_count": 81,
   "id": "aeb43779-22a7-4e9e-b8a1-4b5543ed2f1f",
   "metadata": {},
   "outputs": [],
   "source": [
    "y_pred_lr = pipeline.predict(X_test)"
   ]
  },
  {
   "cell_type": "code",
   "execution_count": 82,
   "id": "16f265be-6f65-4783-9b29-8362efdd9cc1",
   "metadata": {},
   "outputs": [
    {
     "data": {
      "text/plain": [
       "0.8829745786722778"
      ]
     },
     "execution_count": 82,
     "metadata": {},
     "output_type": "execute_result"
    }
   ],
   "source": [
    "r2_score(y_test, y_pred_lr)"
   ]
  },
  {
   "cell_type": "code",
   "execution_count": 83,
   "id": "7d731474-8706-4966-b113-41d6d8e2b118",
   "metadata": {},
   "outputs": [],
   "source": [
    "import pickle"
   ]
  },
  {
   "cell_type": "code",
   "execution_count": 84,
   "id": "641e85b4-a69b-4f03-976c-3f26ce6a4762",
   "metadata": {},
   "outputs": [],
   "source": [
    "pickle.dump(pipeline, open('LrModel.pkl', 'wb'))"
   ]
  },
  {
   "cell_type": "code",
   "execution_count": null,
   "id": "0f035613-db75-4c9b-8a18-de602551c0d5",
   "metadata": {},
   "outputs": [],
   "source": []
  }
 ],
 "metadata": {
  "kernelspec": {
   "display_name": "Python 3 (ipykernel)",
   "language": "python",
   "name": "python3"
  },
  "language_info": {
   "codemirror_mode": {
    "name": "ipython",
    "version": 3
   },
   "file_extension": ".py",
   "mimetype": "text/x-python",
   "name": "python",
   "nbconvert_exporter": "python",
   "pygments_lexer": "ipython3",
   "version": "3.11.5"
  }
 },
 "nbformat": 4,
 "nbformat_minor": 5
}
